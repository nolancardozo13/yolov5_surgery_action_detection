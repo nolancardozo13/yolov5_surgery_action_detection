{
 "cells": [
  {
   "cell_type": "code",
   "execution_count": 3,
   "id": "799fc9bd",
   "metadata": {},
   "outputs": [],
   "source": [
    "import numpy as np\n",
    "import pandas as pd\n",
    "import os\n",
    "import yaml"
   ]
  },
  {
   "cell_type": "code",
   "execution_count": 4,
   "id": "da2c49d4",
   "metadata": {},
   "outputs": [],
   "source": [
    "def convert_to_yolo_format(input_path,output_path, image_dims = [720,576]):\n",
    "    '''\n",
    "    converts the mesad format annotations into yolo format \n",
    "    input:\n",
    "        input_path: path of the input annotations (str)\n",
    "        output_path: path to save the output yolo format txt files (str)\n",
    "        image_dims: the dimensions of the images (list)\n",
    "    output:\n",
    "        unique_labels: the unique labels in the dataset (list)\n",
    "    '''\n",
    "    unique_labels = []\n",
    "    annotations = os.listdir(input_path)\n",
    "    for ann in annotations:\n",
    "        label_files = ann.split('.')\n",
    "        if 'labels' in label_files:\n",
    "            label_data = pd.read_csv(input_path+label_files[0]+'.bboxes.labels.tsv',sep='\\t',header = None)\n",
    "            bbox_data = pd.read_csv(input_path+label_files[0]+'.bboxes.tsv',sep='\\t', header = None)\n",
    "            if not os.path.isdir(output_path):\n",
    "                os.makedirs(output_path)\n",
    "            with open(output_path+label_files[0]+'.txt', 'a') as txtfile:\n",
    "                for i, label in enumerate(list(label_data[0])):\n",
    "                    anno = []\n",
    "                    if label not in unique_labels:\n",
    "                        unique_labels.append(label)\n",
    "                    class_id = unique_labels.index(label)\n",
    "                    bbox = bbox_data.values.tolist()[i]\n",
    "                    b_center_x = (bbox[0] + bbox[2]) / 2 \n",
    "                    b_center_y = (bbox[1] + bbox[3]) / 2\n",
    "                    b_width    = (bbox[2] - bbox[0])\n",
    "                    b_height   = (bbox[3] - bbox[1])\n",
    "                    b_center_x /= image_dims[0]\n",
    "                    b_center_y /= image_dims[1]\n",
    "                    b_width    /= image_dims[0]\n",
    "                    b_height   /= image_dims[1]\n",
    "                    anno.append(\"{} {:.3f} {:.3f} {:.3f} {:.3f}\".format(class_id, b_center_x, b_center_y, b_width, b_height))\n",
    "                    txtfile.write('{}\\n'.format(\" \".join(map(str,anno))))\n",
    "            txtfile.close()\n",
    "    return unique_labels"
   ]
  },
  {
   "cell_type": "code",
   "execution_count": 5,
   "id": "8bd29bc7",
   "metadata": {},
   "outputs": [],
   "source": [
    "train_input_label_path = 'data/mesad-real/train/annotations/'\n",
    "train_output_label_path = 'data/mesad-real/train/labels/'\n",
    "train_unique_labels = convert_to_yolo_format(train_input_label_path,train_output_label_path)"
   ]
  },
  {
   "cell_type": "code",
   "execution_count": 6,
   "id": "29ad16f2",
   "metadata": {},
   "outputs": [],
   "source": [
    "val_input_label_path = 'data/mesad-real/val/annotations/'\n",
    "val_output_label_path = 'data/mesad-real/val/labels/'\n",
    "val_unique_labels = convert_to_yolo_format(val_input_label_path,val_output_label_path, train_unique_labels)"
   ]
  },
  {
   "cell_type": "code",
   "execution_count": 7,
   "id": "ccbd2927",
   "metadata": {},
   "outputs": [],
   "source": [
    "def create_training_yaml_file(train_file_path, val_file_path, unique_labels):\n",
    "    '''\n",
    "    auto generates the yaml file needed by yolo v5 for training\n",
    "    input:\n",
    "        train_file_path: the path of the training files (str)\n",
    "        val_file_path: the path of the validation files (str)\n",
    "        unique_labels: the unique labels in the dataset (list)\n",
    "    '''\n",
    "    data = dict(\n",
    "    train = train_file_path,\n",
    "    val = val_file_path,\n",
    "    nc = len(unique_labels),\n",
    "    names = unique_labels\n",
    "    )\n",
    "    with open('mesad-real.yml', 'w') as ymlfile:\n",
    "        yaml.dump(data, ymlfile, default_flow_style=False)"
   ]
  },
  {
   "cell_type": "code",
   "execution_count": 8,
   "id": "ce0d5f7a",
   "metadata": {},
   "outputs": [],
   "source": [
    "create_training_yaml_file(train_output_label_path, val_output_label_path, train_unique_labels)"
   ]
  },
  {
   "cell_type": "code",
   "execution_count": null,
   "id": "acc47a0c",
   "metadata": {},
   "outputs": [],
   "source": []
  }
 ],
 "metadata": {
  "kernelspec": {
   "display_name": "pytorch",
   "language": "python",
   "name": "pytorch"
  },
  "language_info": {
   "codemirror_mode": {
    "name": "ipython",
    "version": 3
   },
   "file_extension": ".py",
   "mimetype": "text/x-python",
   "name": "python",
   "nbconvert_exporter": "python",
   "pygments_lexer": "ipython3",
   "version": "3.8.10"
  }
 },
 "nbformat": 4,
 "nbformat_minor": 5
}
